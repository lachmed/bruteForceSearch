{
 "cells": [
  {
   "cell_type": "code",
   "execution_count": 1,
   "id": "5f3c5867",
   "metadata": {
    "id": "5f3c5867"
   },
   "outputs": [],
   "source": [
    "import pandas as pd\n",
    "import numpy as np\n",
    "from matplotlib import pyplot as plt\n",
    "from PIL import Image as im, ImageFont, ImageDraw\n",
    "import cv2 as cv\n",
    "from pprint import pprint \n",
    "import os\n",
    "from tqdm import tqdm\n",
    "from multiprocessing import Pool\n",
    "import time\n",
    "\n",
    "\n",
    "import warnings\n",
    "warnings.filterwarnings(\"ignore\")"
   ]
  },
  {
   "cell_type": "markdown",
   "id": "07cdc5e3",
   "metadata": {},
   "source": [
    "### cette fonction permet d'éliminer l'espace qui ne contient pas de lettres pour ne garder que le mot"
   ]
  },
  {
   "cell_type": "code",
   "execution_count": 2,
   "id": "4b676ba5",
   "metadata": {
    "id": "4b676ba5"
   },
   "outputs": [],
   "source": [
    "def trimSpace(img,spaceColor):\n",
    "    for j in range(img.shape[1]-2):\n",
    "        if((img[:,j+1:] == np.ones(img[:,j+1:].shape)*spaceColor).all()):\n",
    "            img = img[:,:j+1]\n",
    "    for i in range(img.shape[0]-2):\n",
    "        if((img[i+1:,:] == np.ones(img[i+1:,:].shape)*spaceColor).all()):\n",
    "            img = img[:i+1,:]\n",
    "    \n",
    "    for i in range(img.shape[0]-1,1,-1):\n",
    "        if((img[i::-1,:] == np.ones(img[i::-1,:].shape)*spaceColor).all()):\n",
    "            img = img[i:,:]\n",
    "    return img"
   ]
  },
  {
   "cell_type": "markdown",
   "id": "449a9e72",
   "metadata": {},
   "source": [
    "### en utilisant Pillow, on va générer les imagetes des mots qu'on cherche en utilisant le multiprocessing pour gagner du temps de calcul"
   ]
  },
  {
   "cell_type": "code",
   "execution_count": 3,
   "id": "98a3473d",
   "metadata": {
    "id": "98a3473d"
   },
   "outputs": [],
   "source": [
    "def coreGenerateImages(args):\n",
    "    imgs = []\n",
    "    w,basePath,fontPath,conv,ext,s = args\n",
    "    with im.open(basePath).convert(conv) as base:            \n",
    "            #white bg black txt\n",
    "            txtt = im.new(conv, base.size, (255,255,255,255))   #base.size = ((len(w)*15)+(len(w)*5),50)\n",
    "            fnt = ImageFont.truetype(fontPath,s)\n",
    "            d = ImageDraw.Draw(txtt)\n",
    "            d.text((0,30),w,font=fnt,fill=(0,0,0,255))\n",
    "            txtt.save(w+str(s)+\".\"+ext,ext.upper())            \n",
    "            imm = cv.imread(w+str(s)+\".\"+ext)\n",
    "            imm = trimSpace(imm,255) #trimWhitespace\n",
    "            imgs.append(imm)\n",
    "            os.remove(w+str(s)+\".\"+ext)\n",
    "            \"\"\"\n",
    "            #black bg white txt\n",
    "            txtt = im.new(\"RGB\", base.size, (0,0,0,255))   #base.size = ((len(w)*15)+(len(w)*5),50)\n",
    "            fnt = ImageFont.truetype(fontPath,s)\n",
    "            d = ImageDraw.Draw(txtt)\n",
    "            d.text((0,30),w,font=fnt,fill=(255,255,255,255))\n",
    "            txtt.save(w+\"2.jpg\",\"JPEG\")            \n",
    "            imm = cv.imread(w+\"2.jpg\")\n",
    "            imm = trimSpace(imm,0) #trimblackSpace\n",
    "            imgs.append(imm)\n",
    "            os.remove(w+\"2.jpg\")\n",
    "            \"\"\"\n",
    "    return imgs\n",
    "\n",
    "def generateImages(w,basePath,fontPath):\n",
    "    \n",
    "    if(basePath.find(\"png\")!=-1):\n",
    "        conv = \"RGBA\"\n",
    "        ext = \"png\"\n",
    "         \n",
    "    elif(basePath.find(\"jpg\")!=-1 or basePath.find(\"jpeg\")!=-1):\n",
    "        conv = \"RGB\"\n",
    "        ext = \"jpg\"\n",
    "    else:\n",
    "        raise Exception(\"Unknown encoding type\")\n",
    "    \n",
    "    sizes = [(w,basePath,fontPath,conv,ext,s) for s in range(8,40)]\n",
    "    with Pool(100) as p:\n",
    "        imgs = p.map(coreGenerateImages,sizes)\n",
    "        \n",
    "    return np.array(imgs).flatten()"
   ]
  },
  {
   "cell_type": "markdown",
   "id": "6381de8d",
   "metadata": {},
   "source": [
    "### cette fonction calcule l'erreure quadratique entre deux images"
   ]
  },
  {
   "cell_type": "code",
   "execution_count": 4,
   "id": "2c950ad0",
   "metadata": {
    "id": "2c950ad0"
   },
   "outputs": [],
   "source": [
    "def erreurQuad(test,orig):\n",
    "    \n",
    "    l,c = (orig.shape[0],orig.shape[1])\n",
    "    N = (1/(l*c))\n",
    "    return N * np.sum((orig-test)**2)\n"
   ]
  },
  {
   "cell_type": "markdown",
   "id": "b4b00814",
   "metadata": {},
   "source": [
    "### comparer deux images pixel par pixel, si la différence de deux pixels est 0 ou bien en (valeur absolue)  < 30 (valeur trouvée après expérimentations)  alors ils sont les même, si le nombre des pixels qui sont égales (ou presque égales) est suppérieur au moitié du nombre total de tous les pixels alors on dirra que les deux images sont les même"
   ]
  },
  {
   "cell_type": "code",
   "execution_count": 5,
   "id": "498f773c",
   "metadata": {},
   "outputs": [],
   "source": [
    "def compareImgs(a,b):\n",
    "    try:\n",
    "        a = cv.cvtColor(a,cv.COLOR_RGB2GRAY)\n",
    "        b = cv.cvtColor(b,cv.COLOR_RGB2GRAY)\n",
    "    except:\n",
    "        pass\n",
    "    a=a.astype('double')\n",
    "    b=b.astype('double')\n",
    "    \n",
    "    res = a-b\n",
    "\n",
    "    res[res==0]=1\n",
    "    res[np.abs(res)<30]=1\n",
    "    \n",
    "    t = res[res==1] \n",
    "    \n",
    "    if(len(t)>(res.shape[0]*res.shape[1])/2):\n",
    "        return True\n",
    "    \n",
    "    return False\n"
   ]
  },
  {
   "cell_type": "markdown",
   "id": "6f0fefd2",
   "metadata": {},
   "source": [
    "### une fontion qui utilise erreureQuad et compareImgs et le PSNR pour comparer deux images, les valeurs indiqué sont trouvée après plusieurs expérimentations."
   ]
  },
  {
   "cell_type": "code",
   "execution_count": 6,
   "id": "dksFEsK2et3q",
   "metadata": {
    "id": "dksFEsK2et3q"
   },
   "outputs": [],
   "source": [
    "def findText3(im1,im2):\n",
    "    \n",
    "    \n",
    "    im1 = cv.cvtColor(im1,cv.COLOR_RGB2GRAY)\n",
    "    im2 = cv.cvtColor(im2,cv.COLOR_RGB2GRAY)\n",
    "    \n",
    "    res = cv.matchTemplate(im1,im2,cv.TM_SQDIFF)\n",
    "    minV,maxV,minPos,maxPos = cv.minMaxLoc(res)\n",
    "    w,h = (im2.shape[0],im2.shape[1])\n",
    "    top_left = minPos    \n",
    "    bottom_right = (top_left[0]+h,top_left[1]+w)\n",
    "    \n",
    "    \n",
    "    \n",
    "    #plt.imshow(im1[top_left[1]:top_left[1]+w,top_left[0]:top_left[0]+h])\n",
    "    \n",
    "    \n",
    "    \n",
    "    psnr=cv.PSNR(im1[top_left[1]:top_left[1]+w,top_left[0]:top_left[0]+h],im2)\n",
    "    sqdif=erreurQuad(im1[top_left[1]:top_left[1]+w,top_left[0]:top_left[0]+h],im2)\n",
    "    \n",
    "    \"\"\"\n",
    "    zeros = im2 - im1[top_left[1]:top_left[1]+w,top_left[0]:top_left[0]+h]\n",
    "    linearzeros = zeros.reshape(1,w*h)\n",
    "    linearzeros = linearzeros[linearzeros==0]\n",
    "    \n",
    "    ones = im1[top_left[1]:top_left[1]+w,top_left[0]:top_left[0]+h].reshape(1,w*h)\n",
    "    linearones = ones[ones==255]\n",
    "    \"\"\"\n",
    "    \n",
    "    #if(psnr>10.5 and sqdif<60 and (len(linearzeros)>((50*(w*h))/100) and len(linearones)<((50*(w*h))/100))):      \n",
    "    #if(psnr>10.5 and sqdif<60 and isNbXInColsRowsGtP(zeros,0,20)):          \n",
    "    if(compareImgs(im2,im1[top_left[1]:top_left[1]+w,top_left[0]:top_left[0]+h]) and psnr>12 and sqdif<70):\n",
    "        imTmp = im1\n",
    "        imTmp = cv.cvtColor(imTmp,cv.COLOR_GRAY2RGB)\n",
    "        #cv.rectangle(imTmp,top_left,bottom_right,255,0)\n",
    "        #plt.imsave(\"im\"+str(int(psnr))+\"_\"+str(int(sqdif))+\".png\",imTmp)\n",
    "        #plt.imshow(im1[top_left[1]:top_left[1]+w,top_left[0]:top_left[0]+h])\n",
    "        coordinates = [top_left,bottom_right,w,h]\n",
    "        return [True,coordinates]\n",
    "        \n",
    "    \n",
    "    return [False,None,w*h,psnr,sqdif]\n",
    "    #return [False,None]\n"
   ]
  },
  {
   "cell_type": "markdown",
   "id": "1c902b39",
   "metadata": {},
   "source": [
    "### ici on compare une image avec une liste des images pour trouvée celle qui correspond le mieux à l'originale en utilisant le multiprocessing pour gagner du temps de calcul"
   ]
  },
  {
   "cell_type": "code",
   "execution_count": 7,
   "id": "83e77bca",
   "metadata": {
    "id": "83e77bca"
   },
   "outputs": [],
   "source": [
    "def findTextV3Core(args):\n",
    "        (doc,imgg) = args\n",
    "        results=findText3(doc,imgg)\n",
    "        return results\n",
    "    \n",
    "def findTextV3(doc,wordImages):\n",
    "\n",
    "    wordims = [(doc,imm) for imm in wordImages ]\n",
    "    \n",
    "    with Pool(100) as p:\n",
    "        ress = p.map(findTextV3Core,wordims)\n",
    "    \n",
    "    founds = []\n",
    "    \n",
    "    for r in ress:\n",
    "        if(r[0]==True):\n",
    "            founds.append(r)\n",
    "    \n",
    "    if(len(founds)>0):\n",
    "        return [True,founds[0][1]]\n",
    "\n",
    "    return [False,None]"
   ]
  },
  {
   "cell_type": "markdown",
   "id": "7d62ed5b",
   "metadata": {},
   "source": [
    "### c'est la fonction principale qui fait appele au autres fonctions pour chercher si le mot text (si separateWords=False) ou bien la liste des mots de text (separateWords=True) existe ou non dans l'image dont le chemin est docPath en utilisant les polices (fonts) qui existent dans fontsPath"
   ]
  },
  {
   "cell_type": "code",
   "execution_count": 8,
   "id": "60610769",
   "metadata": {
    "id": "60610769"
   },
   "outputs": [],
   "source": [
    "def bruteForceSearch(docPath,text,fontsPath,separateWords=True):\n",
    "    \n",
    "    doc = cv.imread(docPath)\n",
    "    \n",
    "    \n",
    "    words = text.split(\" \") if separateWords else [text]\n",
    "    founds = [0]*len(words)\n",
    "    coords = []\n",
    "    \n",
    "    \n",
    "    # get list of fonts files names\n",
    "    fonts = []\n",
    "    \n",
    "    #go to fonts dir    \n",
    "    os.chdir(fontsPath)\n",
    "    for elm in os.listdir():\n",
    "        fonts.append(elm)\n",
    "    \n",
    "    # return to principal dir\n",
    "    os.chdir(\"..\")\n",
    "    \n",
    "    #for each word, for each font generate images and test\n",
    "    \n",
    "    \n",
    "    \"\"\"\n",
    "    \n",
    "    # on commence par le premier mot, si on le trouve alors tester les autres juste avec le font\n",
    "    # de ce dernier, sinon arrêter car si un seul mot n'existe pas alors la phrase ou\n",
    "    # le paragraphe n'existe pas\n",
    "    \n",
    "    \n",
    "    winnerFont = \"\"\n",
    "    \n",
    "    for f in tqdm(fonts):\n",
    "        pprint(f)\n",
    "        images  = generateImages(words[0],docPath,fontsPath+\"/\"+f)    \n",
    "        results = findTextV3(doc,images)\n",
    "        if(results[0]):\n",
    "            winnerFont = f            \n",
    "            founds[0] = 1\n",
    "            coords.append(results[1])\n",
    "            break        \n",
    "    if(winnerFont!=\"\"):\n",
    "        for i in tqdm(range(1,len(words))):            \n",
    "            images = generateImages(words[i],docPath,fontsPath+\"/\"+winnerFont)                    \n",
    "            results = findTextV3(doc,images)\n",
    "            if(results[0]):\n",
    "                founds[i] = 1\n",
    "                coords.append(results[1])\n",
    "            else:\n",
    "                founds[i] = 0\n",
    "                coords.append(None)\n",
    "    else:\n",
    "    \"\"\"\n",
    "    for i in tqdm(range(0,len(words))):        \n",
    "        for f in tqdm(fonts):            \n",
    "            images = generateImages(words[i],docPath,fontsPath+\"/\"+f)                    \n",
    "            results = findTextV3(doc,images)\n",
    "            if(results[0]):\n",
    "                founds[i] = 1\n",
    "                coords.append(results[1])\n",
    "                break\n",
    "    \n",
    "            \n",
    "        \n",
    "    \n",
    "    if(sum(founds) == len(founds)):\n",
    "        res = True\n",
    "    else:\n",
    "        res = False\n",
    "    \n",
    "    return [res,coords,sum(founds),founds]\n",
    "        \n",
    "            \n",
    "    "
   ]
  },
  {
   "cell_type": "markdown",
   "id": "5b937d60",
   "metadata": {},
   "source": [
    "### pour afficher les résultats"
   ]
  },
  {
   "cell_type": "code",
   "execution_count": 9,
   "id": "55980ce1",
   "metadata": {},
   "outputs": [],
   "source": [
    "def showResult(results,docPath):\n",
    "    pprint(results)\n",
    "    imTmp = cv.imread(docPath)\n",
    "    for c in results[1]:\n",
    "        if(c==None):\n",
    "            continue\n",
    "        cv.rectangle(imTmp,c[0],c[1],255,0)\n",
    "    plt.imsave(\"Results.jpg\",imTmp)\n",
    "    plt.imshow(imTmp,cmap=\"gray\")"
   ]
  },
  {
   "cell_type": "markdown",
   "id": "b9154d7b",
   "metadata": {},
   "source": [
    "### pour tester, telecharger le repository et tester avec les images dans le dossier imgs ou bien ajouter vos images. Si vous veuller chercher mot par mot alors remplacer False par True ou bien éliminer cet argument\n",
    "### cette methode est compatible avec les documents ecrit en noir avec une background blanche, sinon (coleurs) il ne donne pas des résultats correctes."
   ]
  },
  {
   "cell_type": "markdown",
   "id": "812d1116",
   "metadata": {},
   "source": [
    "### exemple :"
   ]
  },
  {
   "cell_type": "code",
   "execution_count": 10,
   "id": "tzm-WZpZFAvw",
   "metadata": {
    "colab": {
     "base_uri": "https://localhost:8080/",
     "height": 415
    },
    "id": "tzm-WZpZFAvw",
    "outputId": "399eba52-1967-41d8-9e3a-3f6fd857f029"
   },
   "outputs": [
    {
     "name": "stderr",
     "output_type": "stream",
     "text": [
      "  0%|          | 0/11 [00:00<?, ?it/s]\n",
      "  0%|          | 0/12 [00:11<?, ?it/s]\u001b[A\n",
      "  9%|▉         | 1/11 [00:11<01:57, 11.77s/it]\n",
      "  0%|          | 0/12 [00:00<?, ?it/s]\u001b[A\n",
      "  8%|▊         | 1/12 [00:20<03:46, 20.59s/it]\u001b[A\n",
      " 17%|█▋        | 2/12 [01:06<05:30, 33.08s/it]\u001b[A\n",
      " 18%|█▊        | 2/11 [01:17<06:33, 43.77s/it]\n",
      "  0%|          | 0/12 [00:00<?, ?it/s]\u001b[A\n",
      "  8%|▊         | 1/12 [00:10<01:52, 10.21s/it]\u001b[A\n",
      " 17%|█▋        | 2/12 [00:31<02:39, 15.96s/it]\u001b[A\n",
      " 27%|██▋       | 3/11 [01:49<05:06, 38.36s/it]\n",
      "  0%|          | 0/12 [00:00<?, ?it/s]\u001b[A\n",
      "  8%|▊         | 1/12 [00:17<03:09, 17.22s/it]\u001b[A\n",
      " 36%|███▋      | 4/11 [02:07<03:30, 30.02s/it]\n",
      "  0%|          | 0/12 [00:21<?, ?it/s]\u001b[A\n",
      " 45%|████▌     | 5/11 [02:28<02:42, 27.03s/it]\n",
      "  0%|          | 0/12 [00:00<?, ?it/s]\u001b[A\n",
      "  8%|▊         | 1/12 [00:21<03:52, 21.09s/it]\u001b[A\n",
      " 55%|█████▍    | 6/11 [02:49<02:05, 25.01s/it]\n",
      "  0%|          | 0/12 [00:14<?, ?it/s]\u001b[A\n",
      " 64%|██████▎   | 7/11 [03:04<01:26, 21.65s/it]\n",
      "  0%|          | 0/12 [00:00<?, ?it/s]\u001b[A\n",
      "  8%|▊         | 1/12 [00:19<03:29, 19.07s/it]\u001b[A\n",
      " 17%|█▋        | 2/12 [00:38<03:10, 19.04s/it]\u001b[A\n",
      " 25%|██▌       | 3/12 [00:56<02:47, 18.60s/it]\u001b[A\n",
      " 33%|███▎      | 4/12 [01:15<02:31, 18.99s/it]\u001b[A\n",
      " 42%|████▏     | 5/12 [01:31<02:04, 17.85s/it]\u001b[A\n",
      " 50%|█████     | 6/12 [01:50<01:49, 18.26s/it]\u001b[A\n",
      " 58%|█████▊    | 7/12 [02:08<01:31, 18.24s/it]\u001b[A\n",
      " 67%|██████▋   | 8/12 [02:26<01:12, 18.11s/it]\u001b[A\n",
      " 75%|███████▌  | 9/12 [02:45<00:55, 18.34s/it]\u001b[A\n",
      " 83%|████████▎ | 10/12 [03:03<00:36, 18.34s/it]\u001b[A\n",
      " 92%|█████████▏| 11/12 [03:23<00:18, 18.69s/it]\u001b[A\n",
      "100%|██████████| 12/12 [03:42<00:00, 18.55s/it]\u001b[A\n",
      " 73%|███████▎  | 8/11 [06:47<04:16, 85.64s/it]\n",
      "  0%|          | 0/12 [00:00<?, ?it/s]\u001b[A\n",
      "  8%|▊         | 1/12 [00:40<07:24, 40.38s/it]\u001b[A\n",
      " 82%|████████▏ | 9/11 [07:27<02:22, 71.49s/it]\n",
      "  0%|          | 0/12 [00:00<?, ?it/s]\u001b[A\n",
      "  8%|▊         | 1/12 [00:19<03:38, 19.84s/it]\u001b[A\n",
      " 17%|█▋        | 2/12 [00:40<03:24, 20.50s/it]\u001b[A\n",
      " 25%|██▌       | 3/12 [01:01<03:04, 20.45s/it]\u001b[A\n",
      " 33%|███▎      | 4/12 [01:21<02:44, 20.56s/it]\u001b[A\n",
      " 42%|████▏     | 5/12 [01:38<02:14, 19.28s/it]\u001b[A\n",
      " 50%|█████     | 6/12 [01:59<01:58, 19.78s/it]\u001b[A\n",
      " 58%|█████▊    | 7/12 [02:19<01:38, 19.78s/it]\u001b[A\n",
      " 67%|██████▋   | 8/12 [02:38<01:18, 19.50s/it]\u001b[A\n",
      " 75%|███████▌  | 9/12 [02:59<00:59, 19.87s/it]\u001b[A\n",
      " 83%|████████▎ | 10/12 [03:18<00:39, 19.80s/it]\u001b[A\n",
      " 92%|█████████▏| 11/12 [03:40<00:20, 20.27s/it]\u001b[A\n",
      "100%|██████████| 12/12 [04:01<00:00, 20.10s/it]\u001b[A\n",
      " 91%|█████████ | 10/11 [11:28<02:03, 123.87s/it]\n",
      "  0%|          | 0/12 [00:00<?, ?it/s]\u001b[A\n",
      "  8%|▊         | 1/12 [00:15<02:45, 15.05s/it]\u001b[A\n",
      " 17%|█▋        | 2/12 [00:45<03:49, 23.00s/it]\u001b[A\n",
      "100%|██████████| 11/11 [12:14<00:00, 66.80s/it] \n"
     ]
    }
   ],
   "source": [
    "results = bruteForceSearch(\"./imgs/test1.png\",\"image segmentation Zhou Luu reinforcement Deep learning ELSEVIER Introduction ABSTRACT Medical\",\"./Fonts\",True)"
   ]
  },
  {
   "cell_type": "code",
   "execution_count": 11,
   "id": "342acb14",
   "metadata": {},
   "outputs": [
    {
     "name": "stdout",
     "output_type": "stream",
     "text": [
      "[False,\n",
      " [[(296, 77), (316, 86), 9, 20],\n",
      "  [(167, 262), (219, 271), 9, 52],\n",
      "  [(98, 272), (118, 280), 8, 20],\n",
      "  [(263, 230), (276, 238), 8, 13],\n",
      "  [(150, 403), (197, 412), 9, 47],\n",
      "  [(424, 373), (444, 383), 10, 20],\n",
      "  [(78, 414), (106, 423), 9, 28],\n",
      "  [(370, 475), (411, 483), 8, 41],\n",
      "  [(171, 763), (204, 772), 9, 33]],\n",
      " 9,\n",
      " [1, 1, 1, 1, 1, 1, 1, 0, 1, 0, 1]]\n"
     ]
    },
    {
     "data": {
      "image/png": "[encoded data removed]",
      "text/plain": [
       "<Figure size 432x288 with 1 Axes>"
      ]
     },
     "metadata": {
      "needs_background": "light"
     },
     "output_type": "display_data"
    }
   ],
   "source": [
    "showResult(results,\"./imgs/test1.png\")"
   ]
  },
  {
   "cell_type": "code",
   "execution_count": null,
   "id": "6199d11d",
   "metadata": {},
   "outputs": [],
   "source": []
  },
  {
   "cell_type": "code",
   "execution_count": null,
   "id": "478870b3",
   "metadata": {},
   "outputs": [],
   "source": []
  }
 ],
 "metadata": {
  "colab": {
   "collapsed_sections": [],
   "provenance": []
  },
  "kernelspec": {
   "display_name": "Python 3 (ipykernel)",
   "language": "python",
   "name": "python3"
  },
  "language_info": {
   "codemirror_mode": {
    "name": "ipython",
    "version": 3
   },
   "file_extension": ".py",
   "mimetype": "text/x-python",
   "name": "python",
   "nbconvert_exporter": "python",
   "pygments_lexer": "ipython3",
   "version": "3.9.12"
  }
 },
 "nbformat": 4,
 "nbformat_minor": 5
}
