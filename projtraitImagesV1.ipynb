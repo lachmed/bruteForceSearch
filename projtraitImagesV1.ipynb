{
 "cells": [
  {
   "cell_type": "code",
   "execution_count": 2,
   "id": "2821e843",
   "metadata": {},
   "outputs": [],
   "source": [
    "import pandas as pd\n",
    "import numpy as np\n",
    "from matplotlib import pyplot as plt\n",
    "from PIL import Image as im, ImageFont, ImageDraw\n",
    "import cv2 as cv\n",
    "from pprint import pprint \n",
    "import os\n",
    "from tqdm import tqdm\n",
    "\n",
    "import warnings\n",
    "warnings.filterwarnings(\"ignore\")"
   ]
  },
  {
   "cell_type": "code",
   "execution_count": 3,
   "id": "f312dd5b",
   "metadata": {},
   "outputs": [],
   "source": [
    "def findTextV1(img,txt):\n",
    "    img = cv.cvtColor(img,cv.COLOR_RGB2GRAY)\n",
    "    txt = cv.cvtColor(txt,cv.COLOR_RGB2GRAY)\n",
    "    (l,c) = img.shape\n",
    "    (lt,ct) = txt.shape\n",
    "    zeros = np.zeros((lt,ct),dtype=int)\n",
    "    \n",
    "    for i in range(l-2):\n",
    "        #print('line ', i)\n",
    "        for j in range(c-2):            \n",
    "            try:                \n",
    "                res = txt - img[i:i+lt, j:j+ct]\n",
    "                if((res==zeros).all()):                                \n",
    "                    plt.figure(\"found\")\n",
    "                    plt.imshow(img[i:i+lt, j:j+ct],cmap=\"gray\")\n",
    "                    return True                \n",
    "            except:\n",
    "                continue\n",
    "    return False          \n"
   ]
  },
  {
   "cell_type": "code",
   "execution_count": 4,
   "id": "5b0666cb",
   "metadata": {},
   "outputs": [],
   "source": [
    "def findText(img,listWords):\n",
    "    \n",
    "    taille = len(listWords)\n",
    "    \n",
    "    img = cv.cvtColor(img,cv.COLOR_RGB2GRAY)\n",
    "    (l,c) = img.shape\n",
    "    \n",
    "    wordNb = 0\n",
    "    txt = cv.cvtColor(listWords[wordNb],cv.COLOR_RGB2GRAY)    \n",
    "    (lt,ct) = txt.shape\n",
    "    zeros = np.zeros((lt,ct),dtype=int)            \n",
    "    \n",
    "    firstLineSelection = 0\n",
    "    lastLineSelection = 0\n",
    "    \n",
    "    for i in range(l-2):\n",
    "        for j in range(c-2):                            \n",
    "                try:                \n",
    "                    res = txt - img[i:i+lt, j:j+ct]\n",
    "                    if((res==zeros).all()):\n",
    "                        \n",
    "                        if(wordNb==0):\n",
    "                            # the section we are looking for starts here\n",
    "                            firstLineSelection = i\n",
    "                        \n",
    "                        if(wordNb==taille-1):                            \n",
    "                            # and ends here\n",
    "                            lastLineSelection = i\n",
    "                        \n",
    "                        # this means we found the current word, move to next word\n",
    "                        wordNb+=1\n",
    "                        txt = cv.cvtColor(listWords[wordNb],cv.COLOR_RGB2GRAY)    \n",
    "                        (lt,ct) = txt.shape\n",
    "                        zeros = np.zeros((lt,ct),dtype=int)                                    \n",
    "                except:\n",
    "                    continue\n",
    "    \n",
    "    return (wordNb==taille-1,firstLineSelection,lastLineSelection)\n"
   ]
  },
  {
   "cell_type": "code",
   "execution_count": 5,
   "id": "05cf638c",
   "metadata": {},
   "outputs": [],
   "source": [
    "# generate images from text, word by word using PILlow\n",
    "def generateImages(text,basePath,fontsPath = \"./Fonts\",resultsPath=\"./tmp\"):\n",
    "    \n",
    "    try:\n",
    "        os.mkdir(resultsPath)\n",
    "    except:\n",
    "        pass\n",
    "    \n",
    "    words = text.split(\" \")\n",
    "    \n",
    "    # get list of fonts files names\n",
    "    fonts = []\n",
    "    fontTmps = []\n",
    "    \n",
    "    #go to fonts dir    \n",
    "    os.chdir(fontsPath)\n",
    "    for elm in os.listdir():\n",
    "        fonts.append(elm)\n",
    "    \n",
    "    # return to principal dir\n",
    "    os.chdir(\"..\")\n",
    "\n",
    "    \n",
    "    for f in fonts:\n",
    "        fontTmp = resultsPath+\"/\"+f.split(\".ttf\")[0]+\"Tmp\"\n",
    "        fontTmps.append(fontTmp)        \n",
    "        os.mkdir(fontTmp)\n",
    "        for w in words:\n",
    "            # generate image of w with font f and store it in /tmp/fontTmp\n",
    "            for s in range(8,40):                \n",
    "                with im.open(basePath).convert(\"RGBA\") as base:\n",
    "                    txtt = im.new(\"RGBA\", base.size, (255,255,255,255))   #base.size = ((len(w)*15)+(len(w)*5),50)\n",
    "                    fnt = ImageFont.truetype(\"./Fonts/\"+f,s)\n",
    "                    d = ImageDraw.Draw(txtt)\n",
    "                    d.text((0,30),w,font=fnt,fill=(0,0,0,255))\n",
    "                    #out = im.alpha_composite(base,txtt)\n",
    "                    #out.show()\n",
    "                    txtt.save(fontTmp+\"/\"+str(s)+w+\".png\",\"PNG\")\n",
    "                    #plt.imshow(txtt)\n",
    "\n",
    "    \n",
    "    return fontTmps"
   ]
  },
  {
   "cell_type": "code",
   "execution_count": 6,
   "id": "c14c1731",
   "metadata": {},
   "outputs": [],
   "source": [
    "def trimWhiteSpace(img):\n",
    "    for j in range(img.shape[1]-2):\n",
    "        if((img[:,j+1:] == np.ones(img[:,j+1:].shape)*255).all()):\n",
    "            img = img[:,:j+1]\n",
    "    for i in range(img.shape[0]-2):\n",
    "        if((img[i+1:,:] == np.ones(img[i+1:,:].shape)*255).all()):\n",
    "            img = img[:i+1,:]\n",
    "    \n",
    "    for i in range(img.shape[0]-1,1,-1):\n",
    "        if((img[i::-1,:] == np.ones(img[i::-1,:].shape)*255).all()):\n",
    "            img = img[i:,:]\n",
    "    return img"
   ]
  },
  {
   "cell_type": "code",
   "execution_count": 7,
   "id": "77457c96",
   "metadata": {},
   "outputs": [],
   "source": [
    "def bruteForceSearch(docPath,text):\n",
    "    \n",
    "    fontTmps = generateImages(text,docPath)\n",
    "    \n",
    "    doc = cv.imread(docPath)\n",
    "    \n",
    "    \n",
    "    \n",
    "    for ft in tqdm(fontTmps):\n",
    "        listWords = []\n",
    "        os.chdir(ft)\n",
    "        # here we have word by word images of the original text\n",
    "        for wim in os.listdir():\n",
    "            im = cv.imread(wim)\n",
    "            im = trimWhiteSpace(im)\n",
    "            listWords.append(im)\n",
    "            os.remove(wim)\n",
    "        \n",
    "        os.chdir(\"../..\")\n",
    "        os.rmdir(ft)\n",
    "        \n",
    "        \n",
    "        (res,fline,lline) = findTextV3(doc,listWords) # V3 au lieu de  findText \n",
    "        \n",
    "        if(res):\n",
    "            plt.imshow(doc[fline:lline,:],cmap=\"gray\")\n",
    "            return (True,ft)\n",
    "    \n",
    "    \n",
    "    \n",
    "    return (False,None)\n",
    "        \n",
    "            \n",
    "    "
   ]
  },
  {
   "cell_type": "code",
   "execution_count": 14,
   "id": "d6fdac47",
   "metadata": {},
   "outputs": [
    {
     "name": "stderr",
     "output_type": "stream",
     "text": [
      "  0%|          | 0/19 [01:44<?, ?it/s]\n"
     ]
    },
    {
     "ename": "KeyboardInterrupt",
     "evalue": "",
     "output_type": "error",
     "traceback": [
      "\u001b[0;31m---------------------------------------------------------------------------\u001b[0m",
      "\u001b[0;31merror\u001b[0m                                     Traceback (most recent call last)",
      "Input \u001b[0;32mIn [10]\u001b[0m, in \u001b[0;36mfindTextV3\u001b[0;34m(img, listWords)\u001b[0m\n\u001b[1;32m     18\u001b[0m \u001b[38;5;28;01mtry\u001b[39;00m:                \n\u001b[1;32m     19\u001b[0m     \u001b[38;5;66;03m#res = txt - img[i:i+lt, j:j+ct]\u001b[39;00m\n\u001b[1;32m     20\u001b[0m     \u001b[38;5;66;03m#if((res==zeros).all()):\u001b[39;00m\n\u001b[0;32m---> 21\u001b[0m     \u001b[38;5;28;01mif\u001b[39;00m(\u001b[43mfindText3\u001b[49m\u001b[43m(\u001b[49m\u001b[43mimg\u001b[49m\u001b[43m[\u001b[49m\u001b[43mi\u001b[49m\u001b[43m:\u001b[49m\u001b[43mi\u001b[49m\u001b[38;5;241;43m+\u001b[39;49m\u001b[43mlt\u001b[49m\u001b[43m,\u001b[49m\u001b[43m \u001b[49m\u001b[43mj\u001b[49m\u001b[43m:\u001b[49m\u001b[43mj\u001b[49m\u001b[38;5;241;43m+\u001b[39;49m\u001b[43mct\u001b[49m\u001b[43m]\u001b[49m\u001b[43m,\u001b[49m\u001b[43mtxt\u001b[49m\u001b[43m)\u001b[49m):                        \n\u001b[1;32m     22\u001b[0m         \u001b[38;5;28;01mif\u001b[39;00m(wordNb\u001b[38;5;241m==\u001b[39m\u001b[38;5;241m0\u001b[39m):\n\u001b[1;32m     23\u001b[0m             \u001b[38;5;66;03m# the section we are looking for starts here\u001b[39;00m\n",
      "Input \u001b[0;32mIn [12]\u001b[0m, in \u001b[0;36mfindText3\u001b[0;34m(im1, im2)\u001b[0m\n\u001b[1;32m     11\u001b[0m \u001b[38;5;66;03m#cv.rectangle(im1,top_left,bottom_right,255,0)\u001b[39;00m\n\u001b[0;32m---> 13\u001b[0m psnr\u001b[38;5;241m=\u001b[39m\u001b[43mcv\u001b[49m\u001b[38;5;241;43m.\u001b[39;49m\u001b[43mPSNR\u001b[49m\u001b[43m(\u001b[49m\u001b[43mim1\u001b[49m\u001b[43m[\u001b[49m\u001b[43mtop_left\u001b[49m\u001b[43m[\u001b[49m\u001b[38;5;241;43m1\u001b[39;49m\u001b[43m]\u001b[49m\u001b[43m:\u001b[49m\u001b[43mtop_left\u001b[49m\u001b[43m[\u001b[49m\u001b[38;5;241;43m1\u001b[39;49m\u001b[43m]\u001b[49m\u001b[38;5;241;43m+\u001b[39;49m\u001b[43mw\u001b[49m\u001b[43m,\u001b[49m\u001b[43mtop_left\u001b[49m\u001b[43m[\u001b[49m\u001b[38;5;241;43m0\u001b[39;49m\u001b[43m]\u001b[49m\u001b[43m:\u001b[49m\u001b[43mtop_left\u001b[49m\u001b[43m[\u001b[49m\u001b[38;5;241;43m0\u001b[39;49m\u001b[43m]\u001b[49m\u001b[38;5;241;43m+\u001b[39;49m\u001b[43mh\u001b[49m\u001b[43m]\u001b[49m\u001b[43m,\u001b[49m\u001b[43mim2\u001b[49m\u001b[43m)\u001b[49m\n\u001b[1;32m     14\u001b[0m sqdif\u001b[38;5;241m=\u001b[39merreurQuad(im1[top_left[\u001b[38;5;241m1\u001b[39m]:top_left[\u001b[38;5;241m1\u001b[39m]\u001b[38;5;241m+\u001b[39mw,top_left[\u001b[38;5;241m0\u001b[39m]:top_left[\u001b[38;5;241m0\u001b[39m]\u001b[38;5;241m+\u001b[39mh],im2)\n",
      "\u001b[0;31merror\u001b[0m: OpenCV(4.6.0) /io/opencv/modules/core/src/norm.cpp:1082: error: (-215:Assertion failed) _src1.sameSize(_src2) in function 'norm'\n",
      "\nDuring handling of the above exception, another exception occurred:\n",
      "\u001b[0;31mKeyboardInterrupt\u001b[0m                         Traceback (most recent call last)",
      "Input \u001b[0;32mIn [14]\u001b[0m, in \u001b[0;36m<cell line: 1>\u001b[0;34m()\u001b[0m\n\u001b[0;32m----> 1\u001b[0m \u001b[43mbruteForceSearch\u001b[49m\u001b[43m(\u001b[49m\u001b[38;5;124;43m\"\u001b[39;49m\u001b[38;5;124;43m./imgs/im13.png\u001b[39;49m\u001b[38;5;124;43m\"\u001b[39;49m\u001b[43m,\u001b[49m\u001b[38;5;124;43m\"\u001b[39;49m\u001b[38;5;124;43mImage Segmentation\u001b[39;49m\u001b[38;5;124;43m\"\u001b[39;49m\u001b[43m)\u001b[49m\n",
      "Input \u001b[0;32mIn [9]\u001b[0m, in \u001b[0;36mbruteForceSearch\u001b[0;34m(docPath, text)\u001b[0m\n\u001b[1;32m     19\u001b[0m os\u001b[38;5;241m.\u001b[39mchdir(\u001b[38;5;124m\"\u001b[39m\u001b[38;5;124m../..\u001b[39m\u001b[38;5;124m\"\u001b[39m)\n\u001b[1;32m     20\u001b[0m os\u001b[38;5;241m.\u001b[39mrmdir(ft)\n\u001b[0;32m---> 23\u001b[0m (res,fline,lline) \u001b[38;5;241m=\u001b[39m \u001b[43mfindTextV3\u001b[49m\u001b[43m(\u001b[49m\u001b[43mdoc\u001b[49m\u001b[43m,\u001b[49m\u001b[43mlistWords\u001b[49m\u001b[43m)\u001b[49m \u001b[38;5;66;03m# V3 au lieu de  findText \u001b[39;00m\n\u001b[1;32m     25\u001b[0m \u001b[38;5;28;01mif\u001b[39;00m(res):\n\u001b[1;32m     26\u001b[0m     plt\u001b[38;5;241m.\u001b[39mimshow(doc[fline:lline,:],cmap\u001b[38;5;241m=\u001b[39m\u001b[38;5;124m\"\u001b[39m\u001b[38;5;124mgray\u001b[39m\u001b[38;5;124m\"\u001b[39m)\n",
      "Input \u001b[0;32mIn [10]\u001b[0m, in \u001b[0;36mfindTextV3\u001b[0;34m(img, listWords)\u001b[0m\n\u001b[1;32m     17\u001b[0m \u001b[38;5;28;01mfor\u001b[39;00m j \u001b[38;5;129;01min\u001b[39;00m \u001b[38;5;28mrange\u001b[39m(c\u001b[38;5;241m-\u001b[39m\u001b[38;5;241m2\u001b[39m):                            \n\u001b[1;32m     18\u001b[0m         \u001b[38;5;28;01mtry\u001b[39;00m:                \n\u001b[1;32m     19\u001b[0m             \u001b[38;5;66;03m#res = txt - img[i:i+lt, j:j+ct]\u001b[39;00m\n\u001b[1;32m     20\u001b[0m             \u001b[38;5;66;03m#if((res==zeros).all()):\u001b[39;00m\n\u001b[0;32m---> 21\u001b[0m             \u001b[38;5;28;01mif\u001b[39;00m(\u001b[43mfindText3\u001b[49m\u001b[43m(\u001b[49m\u001b[43mimg\u001b[49m\u001b[43m[\u001b[49m\u001b[43mi\u001b[49m\u001b[43m:\u001b[49m\u001b[43mi\u001b[49m\u001b[38;5;241;43m+\u001b[39;49m\u001b[43mlt\u001b[49m\u001b[43m,\u001b[49m\u001b[43m \u001b[49m\u001b[43mj\u001b[49m\u001b[43m:\u001b[49m\u001b[43mj\u001b[49m\u001b[38;5;241;43m+\u001b[39;49m\u001b[43mct\u001b[49m\u001b[43m]\u001b[49m\u001b[43m,\u001b[49m\u001b[43mtxt\u001b[49m\u001b[43m)\u001b[49m):                        \n\u001b[1;32m     22\u001b[0m                 \u001b[38;5;28;01mif\u001b[39;00m(wordNb\u001b[38;5;241m==\u001b[39m\u001b[38;5;241m0\u001b[39m):\n\u001b[1;32m     23\u001b[0m                     \u001b[38;5;66;03m# the section we are looking for starts here\u001b[39;00m\n\u001b[1;32m     24\u001b[0m                     firstLineSelection \u001b[38;5;241m=\u001b[39m i\n",
      "\u001b[0;31mKeyboardInterrupt\u001b[0m: "
     ]
    }
   ],
   "source": [
    "bruteForceSearch(\"./imgs/im13.png\",\"Image Segmentation\")"
   ]
  },
  {
   "cell_type": "code",
   "execution_count": 8,
   "id": "65ca73eb",
   "metadata": {},
   "outputs": [],
   "source": [
    "def findTextV3(img,listWords):\n",
    "    \n",
    "    taille = len(listWords)\n",
    "    \n",
    "    img = cv.cvtColor(img,cv.COLOR_RGB2GRAY)\n",
    "    (l,c) = img.shape\n",
    "    \n",
    "    wordNb = 0\n",
    "    txt = cv.cvtColor(listWords[wordNb],cv.COLOR_RGB2GRAY)    \n",
    "    (lt,ct) = txt.shape\n",
    "    zeros = np.zeros((lt,ct),dtype=int)            \n",
    "    \n",
    "    firstLineSelection = 0\n",
    "    lastLineSelection = 0\n",
    "    \n",
    "    for i in range(l-2):\n",
    "        for j in range(c-2):                            \n",
    "                try:                \n",
    "                    #res = txt - img[i:i+lt, j:j+ct]\n",
    "                    #if((res==zeros).all()):\n",
    "                    if(findText3(img[i:i+lt, j:j+ct],txt)):                        \n",
    "                        if(wordNb==0):\n",
    "                            # the section we are looking for starts here\n",
    "                            firstLineSelection = i\n",
    "                        \n",
    "                        if(wordNb==taille-1):                            \n",
    "                            # and ends here\n",
    "                            lastLineSelection = i\n",
    "                        \n",
    "                        # this means we found the current word, move to next word\n",
    "                        wordNb+=1\n",
    "                        txt = cv.cvtColor(listWords[wordNb],cv.COLOR_RGB2GRAY)    \n",
    "                        (lt,ct) = txt.shape\n",
    "                        zeros = np.zeros((lt,ct),dtype=int)                                    \n",
    "                except:\n",
    "                    continue\n",
    "    \n",
    "    return (wordNb==taille-1,firstLineSelection,lastLineSelection)\n"
   ]
  },
  {
   "cell_type": "code",
   "execution_count": 9,
   "id": "7ef37663",
   "metadata": {},
   "outputs": [],
   "source": [
    "def erreurQuad(test,orig):\n",
    "    \n",
    "    l,c = (orig.shape[0],orig.shape[1])\n",
    "    N = (1/(l*c))\n",
    "    return N * np.sum((orig-test)**2)\n",
    "\n"
   ]
  },
  {
   "cell_type": "code",
   "execution_count": 265,
   "id": "2f320abf",
   "metadata": {},
   "outputs": [
    {
     "data": {
      "text/plain": [
       "0.0"
      ]
     },
     "execution_count": 265,
     "metadata": {},
     "output_type": "execute_result"
    }
   ],
   "source": [
    "a = np.array([np.array(np.array([1,2,3])),np.array([1,2,3]),np.array([1,2,3])])\n",
    "erreurQuad(a,a)"
   ]
  },
  {
   "cell_type": "code",
   "execution_count": 84,
   "id": "ea3eac74",
   "metadata": {},
   "outputs": [
    {
     "data": {
      "text/plain": [
       "<matplotlib.image.AxesImage at 0x7fd88b3d4be0>"
      ]
     },
     "execution_count": 84,
     "metadata": {},
     "output_type": "execute_result"
    },
    {
     "data": {
      "image/png": "[encoded data removed]",
      "text/plain": [
       "<Figure size 432x288 with 1 Axes>"
      ]
     },
     "metadata": {
      "needs_background": "light"
     },
     "output_type": "display_data"
    }
   ],
   "source": [
    "plt.imshow(im1)"
   ]
  },
  {
   "cell_type": "code",
   "execution_count": 186,
   "id": "adecefdc",
   "metadata": {},
   "outputs": [],
   "source": [
    "w = \"Background\"\n",
    "with im.open(\"./imgs/im13.png\").convert(\"RGBA\") as base:\n",
    "                txtt = im.new(\"RGBA\", base.size, (255,255,255,255))   #base.size = ((len(w)*15)+(len(w)*5),50)\n",
    "                fnt = ImageFont.truetype(\"./Fonts/times new roman bold.ttf\",25)\n",
    "                d = ImageDraw.Draw(txtt)\n",
    "                d.text((0,10),w,font=fnt,fill=(0,0,0,255), align=\"center\")\n",
    "                #out = im.alpha_composite(base,txtt)\n",
    "                #out.show()\n",
    "                txtt.save(w+\".png\",\"PNG\")\n",
    "                txtt.show()\n",
    "                #plt.imshow(txtt)\n"
   ]
  },
  {
   "cell_type": "code",
   "execution_count": 187,
   "id": "e1b313dd",
   "metadata": {},
   "outputs": [],
   "source": [
    "imm = cv.imread(\"Background.png\")\n",
    "imm = trimWhiteSpace(imm)\n",
    "plt.imsave(\"tt.png\",imm)\n",
    "\n"
   ]
  },
  {
   "cell_type": "code",
   "execution_count": 188,
   "id": "af798ed8",
   "metadata": {},
   "outputs": [],
   "source": [
    "im1 = cv.imread(\"./imgs/im13.png\")\n",
    "#im1 = cv.cvtColor(im1,cv.COLOR_RGB2GRAY)\n",
    "im2 = cv.imread(\"./tt.png\")\n",
    "#im2 = cv.cvtColor(im2,cv.COLOR_RGB2GRAY)\n",
    "def findText3(im1,im2):\n",
    "    \n",
    "    im1 = cv.cvtColor(im1,cv.COLOR_RGB2GRAY)\n",
    "    im2 = cv.cvtColor(im2,cv.COLOR_RGB2GRAY)\n",
    "    \n",
    "    res = cv.matchTemplate(im1,im2,cv.TM_SQDIFF)\n",
    "    minV,maxV,minPos,maxPos = cv.minMaxLoc(res)\n",
    "    w,h = (im2.shape[0],im2.shape[1])\n",
    "    top_left = minPos    \n",
    "    bottom_right = (top_left[0]+h,top_left[1]+w)\n",
    "    #cv.rectangle(im1,top_left,bottom_right,255,0)\n",
    "    \n",
    "    psnr=cv.PSNR(im1[top_left[1]:top_left[1]+w,top_left[0]:top_left[0]+h],im2)\n",
    "    sqdif=erreurQuad(im1[top_left[1]:top_left[1]+w,top_left[0]:top_left[0]+h],im2)\n",
    "    \n",
    "    zeros = im2 - im1[top_left[1]:top_left[1]+w,top_left[0]:top_left[0]+h]\n",
    "    linearzeros = zeros.reshape(1,w*h)\n",
    "    linearzeros = linearzeros[linearzeros==0]\n",
    "    \n",
    "    if(psnr>10 and sqdif<144 and len(linearzeros)>((40*(w*h))/100)):\n",
    "        plt.imshow(im1[top_left[1]:top_left[1]+w,top_left[0]:top_left[0]+h],cmap=\"gray\")\n",
    "        return True\n",
    "    \n",
    "    \n",
    "    \n",
    "    #plt.imshow(im1)\n",
    "    #plt.imsave(\"tttt.png\",im1)\n",
    "findText3(im1,im2)    "
   ]
  },
  {
   "cell_type": "code",
   "execution_count": null,
   "id": "ea17b9e7",
   "metadata": {},
   "outputs": [],
   "source": []
  }
 ],
 "metadata": {
  "kernelspec": {
   "display_name": "Python 3 (ipykernel)",
   "language": "python",
   "name": "python3"
  },
  "language_info": {
   "codemirror_mode": {
    "name": "ipython",
    "version": 3
   },
   "file_extension": ".py",
   "mimetype": "text/x-python",
   "name": "python",
   "nbconvert_exporter": "python",
   "pygments_lexer": "ipython3",
   "version": "3.9.12"
  }
 },
 "nbformat": 4,
 "nbformat_minor": 5
}
