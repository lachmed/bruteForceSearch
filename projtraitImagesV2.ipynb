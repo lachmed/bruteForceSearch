{
 "cells": [
  {
   "cell_type": "code",
   "execution_count": 4,
   "id": "5f3c5867",
   "metadata": {},
   "outputs": [],
   "source": [
    "import pandas as pd\n",
    "import numpy as np\n",
    "from matplotlib import pyplot as plt\n",
    "from PIL import Image as im, ImageFont, ImageDraw\n",
    "import cv2 as cv\n",
    "from pprint import pprint \n",
    "import os\n",
    "from tqdm import tqdm\n",
    "import copy\n",
    "import time\n",
    "\n",
    "import warnings\n",
    "warnings.filterwarnings(\"ignore\")"
   ]
  },
  {
   "cell_type": "code",
   "execution_count": 5,
   "id": "4b676ba5",
   "metadata": {},
   "outputs": [],
   "source": [
    "def trimWhiteSpace(img):\n",
    "    for j in range(img.shape[1]-2):\n",
    "        if((img[:,j+1:] == np.ones(img[:,j+1:].shape)*255).all()):\n",
    "            img = img[:,:j+1]\n",
    "    for i in range(img.shape[0]-2):\n",
    "        if((img[i+1:,:] == np.ones(img[i+1:,:].shape)*255).all()):\n",
    "            img = img[:i+1,:]\n",
    "    \n",
    "    for i in range(img.shape[0]-1,1,-1):\n",
    "        if((img[i::-1,:] == np.ones(img[i::-1,:].shape)*255).all()):\n",
    "            img = img[i:,:]\n",
    "    return img"
   ]
  },
  {
   "cell_type": "code",
   "execution_count": 6,
   "id": "98a3473d",
   "metadata": {},
   "outputs": [],
   "source": [
    "# generate images from text, word by word using PILlow\n",
    "def generateImages(w,basePath,fontPath):\n",
    "    \n",
    "    imgs = []\n",
    "    sizes = []\n",
    "    for s in range(8,40):                            \n",
    "        with im.open(basePath).convert(\"RGBA\") as base:\n",
    "            txtt = im.new(\"RGBA\", base.size, (255,255,255,255))   #base.size = ((len(w)*15)+(len(w)*5),50)\n",
    "            fnt = ImageFont.truetype(fontPath,s)\n",
    "            d = ImageDraw.Draw(txtt)\n",
    "            d.text((0,30),w,font=fnt,fill=(0,0,0,255))\n",
    "            txtt.save(w+\".png\",\"PNG\")\n",
    "            \n",
    "            imm = cv.imread(w+\".png\")\n",
    "            imm = trimWhiteSpace(imm)\n",
    "            imgs.append(imm)\n",
    "            sizes.append(s)\n",
    "            os.remove(w+\".png\")\n",
    "    \n",
    "    return (imgs,sizes)"
   ]
  },
  {
   "cell_type": "code",
   "execution_count": 8,
   "id": "74d9d780",
   "metadata": {},
   "outputs": [],
   "source": [
    "s = time.time()\n",
    "ims = generateImages(\"segmentation\",\"./imgs/im13.png\",\"./Fonts/arial.ttf\")\n",
    "fn = time.time()"
   ]
  },
  {
   "cell_type": "code",
   "execution_count": 9,
   "id": "0115484c",
   "metadata": {},
   "outputs": [
    {
     "data": {
      "text/plain": [
       "30.429168462753296"
      ]
     },
     "execution_count": 9,
     "metadata": {},
     "output_type": "execute_result"
    }
   ],
   "source": []
  },
  {
   "cell_type": "code",
   "execution_count": 48,
   "id": "2c950ad0",
   "metadata": {},
   "outputs": [],
   "source": [
    "def erreurQuad(test,orig):\n",
    "    \n",
    "    l,c = (orig.shape[0],orig.shape[1])\n",
    "    N = (1/(l*c))\n",
    "    return N * np.sum((orig-test)**2)\n"
   ]
  },
  {
   "cell_type": "code",
   "execution_count": null,
   "id": "e9e5a2e7",
   "metadata": {},
   "outputs": [],
   "source": [
    "def findText3(im1,im2):\n",
    "    res = cv.matchTemplate(im1,im2,cv.TM_SQDIFF)\n",
    "    minV,maxV,minPos,maxPos = cv.minMaxLoc(res)\n",
    "    w,h = (im2.shape[0],im2.shape[1])\n",
    "    top_left = minPos    \n",
    "    bottom_right = (top_left[0]+h,top_left[1]+w)\n",
    "    #cv.rectangle(im1,top_left,bottom_right,255,0)\n",
    "    \n",
    "    psnr=cv.PSNR(im1[top_left[1]:top_left[1]+w,top_left[0]:top_left[0]+h],im2)\n",
    "    sqdif=erreurQuad(im1[top_left[1]:top_left[1]+w,top_left[0]:top_left[0]+h],im2)\n",
    "    \n",
    "    if(psnr>10 or sqdif<144):\n",
    "        #plt.imshow(im1[top_left[1]:top_left[1]+w,top_left[0]:top_left[0]+h])\n",
    "        return True"
   ]
  },
  {
   "cell_type": "code",
   "execution_count": null,
   "id": "83e77bca",
   "metadata": {},
   "outputs": [],
   "source": [
    "def findTextV3(doc,wordImages):\n",
    "    \n",
    "    for i in range(len(wordImages)):\n",
    "        if(findText3(doc,wordImages[i])):\n",
    "            return (True,i)\n",
    "\n",
    "    return (False,None)                "
   ]
  },
  {
   "cell_type": "code",
   "execution_count": null,
   "id": "60610769",
   "metadata": {},
   "outputs": [],
   "source": [
    "def bruteForceSearch(docPath,text,fontsPath):\n",
    "    \n",
    "    doc = cv.imread(docPath)\n",
    "    \n",
    "    words = text.split(\" \")\n",
    "    founds = [False]*len(words)\n",
    "    \n",
    "    \n",
    "    \n",
    "    # get list of fonts files names\n",
    "    fonts = []\n",
    "    \n",
    "    #go to fonts dir    \n",
    "    os.chdir(fontsPath)\n",
    "    for elm in os.listdir():\n",
    "        fonts.append(elm)\n",
    "    \n",
    "    # return to principal dir\n",
    "    os.chdir(\"..\")\n",
    "    \n",
    "    #for each word, for each font generate images and test\n",
    "    \n",
    "    \n",
    "    # on commence par le premier mot, si on le trouve alors tester les autres juste avec le font\n",
    "    # de ce dernier, sinon arrêter car si un seul mot n'existe pas alors la phrase ou\n",
    "    # le paragraphe n'existe pas\n",
    "    \n",
    "    winnerFont = \"\"\n",
    "    winnerSize = -1\n",
    "    \n",
    "    for f in fonts:\n",
    "        (images,sizes) = generateImages(words[0],docPath,fontsPath+\"/\"+f)    \n",
    "        (res,size) = findTextV3(doc,images)\n",
    "        if(res):\n",
    "            winnerFont = f\n",
    "            winnerSize = size\n",
    "            founds[0] = True\n",
    "            break\n",
    "    \n",
    "    for i in range(1,len(words)):\n",
    "        images = generateImages(words[i],docPath,fontsPath+\"/\"+winnerFont)    \n",
    "        \n",
    "        #try directly winner size\n",
    "        \n",
    "        if(findText3(doc,images[winnerSize])):\n",
    "            founds[i] = True\n",
    "            continue\n",
    "        \n",
    "        # if not found, test other sizes\n",
    "        \n",
    "        if(findTextV3(doc,images)):\n",
    "            founds[i] = True\n",
    "        else:\n",
    "            founds[i] = False\n",
    "    \n",
    "        \n",
    "            \n",
    "    \n",
    "    \n",
    "    return founds\n",
    "        \n",
    "            \n",
    "    "
   ]
  },
  {
   "cell_type": "code",
   "execution_count": 116,
   "id": "dd27f1e1",
   "metadata": {},
   "outputs": [],
   "source": [
    "a = cv.imread(\"./imgs/im6P.png\")\n",
    "b = cv.imread(\"./imgs/im6P2.png\")\n",
    "a = trimWhiteSpace(a)\n",
    "b = trimWhiteSpace(b)\n",
    "a = a[:b.shape[0],:b.shape[1],:]"
   ]
  },
  {
   "cell_type": "code",
   "execution_count": 111,
   "id": "fb31c922",
   "metadata": {},
   "outputs": [],
   "source": [
    "def compareImgs(a,b):\n",
    "    a = cv.cvtColor(a,cv.COLOR_RGB2GRAY)\n",
    "    b = cv.cvtColor(b,cv.COLOR_RGB2GRAY)\n",
    "    \n",
    "    a=a.astype('double')\n",
    "    b=b.astype('double')\n",
    "    \n",
    "    res = a-b\n",
    "    \n",
    "    ones = copy.deepcopy(res)\n",
    "\n",
    "    for i in range(res.shape[0]):\n",
    "        for j in range(res.shape[1]):\n",
    "            if(res[i,j]==0 or np.abs(res[i,j])<50):\n",
    "                ones[i,j] = 1\n",
    "            else:\n",
    "                ones[i,j] = 0\n",
    "    \n",
    "    t = ones[ones==1] \n",
    "    \n",
    "    if(len(t)>(res.shape[0]*res.shape[1])/2):\n",
    "        return True\n",
    "    \n",
    "    return False\n"
   ]
  },
  {
   "cell_type": "code",
   "execution_count": 113,
   "id": "37726c69",
   "metadata": {},
   "outputs": [
    {
     "data": {
      "text/plain": [
       "True"
      ]
     },
     "execution_count": 113,
     "metadata": {},
     "output_type": "execute_result"
    }
   ],
   "source": [
    "r = compareImgs(a,a)\n",
    "r"
   ]
  },
  {
   "cell_type": "code",
   "execution_count": 117,
   "id": "a5668805",
   "metadata": {},
   "outputs": [
    {
     "data": {
      "text/plain": [
       "7.400703671494339"
      ]
     },
     "execution_count": 117,
     "metadata": {},
     "output_type": "execute_result"
    }
   ],
   "source": [
    "cv.PSNR(a,b)"
   ]
  },
  {
   "cell_type": "code",
   "execution_count": 118,
   "id": "53dc43c9",
   "metadata": {},
   "outputs": [
    {
     "data": {
      "text/plain": [
       "215.55840754321636"
      ]
     },
     "execution_count": 118,
     "metadata": {},
     "output_type": "execute_result"
    }
   ],
   "source": [
    "erreurQuad(a,b)"
   ]
  },
  {
   "cell_type": "code",
   "execution_count": 120,
   "id": "2830b7e1",
   "metadata": {},
   "outputs": [
    {
     "data": {
      "text/plain": [
       "<matplotlib.image.AxesImage at 0x7fe9d82f7100>"
      ]
     },
     "execution_count": 120,
     "metadata": {},
     "output_type": "execute_result"
    },
    {
     "data": {
      "image/png": "[encoded data removed]",
      "text/plain": [
       "<Figure size 432x288 with 1 Axes>"
      ]
     },
     "metadata": {
      "needs_background": "light"
     },
     "output_type": "display_data"
    }
   ],
   "source": [
    "plt.imshow(b)"
   ]
  },
  {
   "cell_type": "code",
   "execution_count": 103,
   "id": "a9f8c7ea",
   "metadata": {},
   "outputs": [],
   "source": [
    "a = np.array([np.array(np.array([1,1,1])),np.array([1,2,3]),np.array([1,1,3])])"
   ]
  },
  {
   "cell_type": "code",
   "execution_count": 107,
   "id": "8a608935",
   "metadata": {},
   "outputs": [
    {
     "data": {
      "text/plain": [
       "array([2])"
      ]
     },
     "execution_count": 107,
     "metadata": {},
     "output_type": "execute_result"
    }
   ],
   "source": [
    "a[a==2]"
   ]
  }
 ],
 "metadata": {
  "kernelspec": {
   "display_name": "Python 3 (ipykernel)",
   "language": "python",
   "name": "python3"
  },
  "language_info": {
   "codemirror_mode": {
    "name": "ipython",
    "version": 3
   },
   "file_extension": ".py",
   "mimetype": "text/x-python",
   "name": "python",
   "nbconvert_exporter": "python",
   "pygments_lexer": "ipython3",
   "version": "3.9.12"
  }
 },
 "nbformat": 4,
 "nbformat_minor": 5
}
